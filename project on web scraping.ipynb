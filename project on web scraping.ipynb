{
 "cells": [
  {
   "cell_type": "code",
   "execution_count": 1,
   "id": "6ec0191c-3c02-4f06-8fd9-7ca02aefd7fe",
   "metadata": {},
   "outputs": [],
   "source": [
    "import requests"
   ]
  },
  {
   "cell_type": "code",
   "execution_count": 2,
   "id": "d2886384-d816-4e4f-9cdb-eb42d68b6394",
   "metadata": {},
   "outputs": [],
   "source": [
    "url=\"https://uspoloassn.in/collections/men-t-shirts\""
   ]
  },
  {
   "cell_type": "code",
   "execution_count": 5,
   "id": "a00e3bf6-3fcc-4057-886d-0cdfedcb6674",
   "metadata": {},
   "outputs": [],
   "source": [
    "r=requests.get(url)"
   ]
  },
  {
   "cell_type": "code",
   "execution_count": 6,
   "id": "e0f324b6-3c04-4495-833f-e7872c04c361",
   "metadata": {},
   "outputs": [
    {
     "data": {
      "text/plain": [
       "<Response [200]>"
      ]
     },
     "execution_count": 6,
     "metadata": {},
     "output_type": "execute_result"
    }
   ],
   "source": [
    "r"
   ]
  },
  {
   "cell_type": "code",
   "execution_count": 9,
   "id": "7b6167ea-f074-42f9-aa46-9188e4a2b48b",
   "metadata": {},
   "outputs": [],
   "source": [
    "from bs4 import BeautifulSoup"
   ]
  },
  {
   "cell_type": "code",
   "execution_count": 11,
   "id": "5037026f-ccd5-42ea-8427-8573f111a15c",
   "metadata": {},
   "outputs": [],
   "source": [
    "soup=BeautifulSoup(r.text,\"html.parser\")"
   ]
  },
  {
   "cell_type": "code",
   "execution_count": 13,
   "id": "a6ab6012-411a-49f4-a314-a874fd2bf013",
   "metadata": {},
   "outputs": [],
   "source": [
    "shirt_names=soup.find_all(\"span\",{\"class\":\"prod-title\"})"
   ]
  },
  {
   "cell_type": "code",
   "execution_count": 15,
   "id": "2d3f41bc-db02-450e-92fe-2a554b2131fd",
   "metadata": {},
   "outputs": [
    {
     "data": {
      "text/plain": [
       "'Muscle Fit Brand Print T-Shirt'"
      ]
     },
     "execution_count": 15,
     "metadata": {},
     "output_type": "execute_result"
    }
   ],
   "source": [
    "shirt_names[0].text"
   ]
  },
  {
   "cell_type": "code",
   "execution_count": 17,
   "id": "e8cd7f67-dc3a-46e4-813f-962eb7d2ecbd",
   "metadata": {},
   "outputs": [],
   "source": [
    "tshirt=[]"
   ]
  },
  {
   "cell_type": "code",
   "execution_count": 19,
   "id": "5636158c-1f05-48fd-8acd-6d99dc19a571",
   "metadata": {
    "scrolled": true
   },
   "outputs": [
    {
     "name": "stdout",
     "output_type": "stream",
     "text": [
      "Muscle Fit Brand Print T-Shirt\n",
      "Varsity Colour Block T-Shirt\n",
      "Crew Neck Brand Embroidered T-Shirt\n",
      "Crew Neck Brand Print T-Shirt\n",
      "Crew Neck Graphic Print T-Shirt\n",
      "Pacho X Crest Logo Slim Fit T-Shirt\n",
      "Brand Print Slim Fit T-Shirt\n",
      "Crew Neck Brand Print T-Shirt\n",
      "Bold Print Cotton T-Shirt\n",
      "Brand Print Slim T-Shirt\n",
      "Brand Print Crew Neck T-Shirt\n",
      "Stretchy Tipped T-Shirt\n",
      "Colour Block Slim Fit T-Shirt\n",
      "Muscle Fit Brand Print T-Shirt\n",
      "Muscle Fit Cotton T-Shirt\n",
      "Crew Neck Brand Print T-Shirt\n",
      "Muscle Fit Cotton T-Shirt\n",
      "Crew Neck Graphic Print T-Shirt\n",
      "Crew Neck Brand Print T-Shirt\n",
      "Brand Embroidered Cotton T-Shirt\n",
      "Brand Stripe Cotton T-Shirt\n",
      "Varsity Colour Block T-Shirt\n",
      "Brand Embroidered Cotton T-Shirt\n",
      "Long Sleeve Hooded T-Shirt\n"
     ]
    }
   ],
   "source": [
    "for i in shirt_names:\n",
    "    print((i.text))"
   ]
  },
  {
   "cell_type": "code",
   "execution_count": 21,
   "id": "d9262d76-4145-4691-abbb-7a7d52c9dfdf",
   "metadata": {},
   "outputs": [],
   "source": [
    "for i in shirt_names:\n",
    "    tshirt.append(i.text)"
   ]
  },
  {
   "cell_type": "code",
   "execution_count": 23,
   "id": "ef5042ca-8081-45f7-893a-53aed073a1e4",
   "metadata": {},
   "outputs": [
    {
     "data": {
      "text/plain": [
       "24"
      ]
     },
     "execution_count": 23,
     "metadata": {},
     "output_type": "execute_result"
    }
   ],
   "source": [
    "len(tshirt)"
   ]
  },
  {
   "cell_type": "code",
   "execution_count": 25,
   "id": "1a91e674-ca20-4b49-89d9-0f8e1b8b4f61",
   "metadata": {},
   "outputs": [],
   "source": [
    "price=soup.find_all(\"span\",{\"class\":\"price-item price-item--sale\"})"
   ]
  },
  {
   "cell_type": "code",
   "execution_count": 27,
   "id": "56e4c2e9-971c-4d92-8eaf-ff89b3555993",
   "metadata": {},
   "outputs": [
    {
     "data": {
      "text/plain": [
       "'1,699.0'"
      ]
     },
     "execution_count": 27,
     "metadata": {},
     "output_type": "execute_result"
    }
   ],
   "source": [
    "price[0].text[2:][:-2]"
   ]
  },
  {
   "cell_type": "code",
   "execution_count": 29,
   "id": "5661e75f-cd72-42b5-aa1e-96a0eebba702",
   "metadata": {},
   "outputs": [],
   "source": [
    "prices=[]"
   ]
  },
  {
   "cell_type": "code",
   "execution_count": 31,
   "id": "cae87dad-7197-4ca2-baec-615d5dfec355",
   "metadata": {},
   "outputs": [],
   "source": [
    "for i in price:\n",
    "    prices.append(i.text[2:][:-2])"
   ]
  },
  {
   "cell_type": "code",
   "execution_count": 33,
   "id": "8bf11d8e-c361-42c9-9ca9-43457b53a5a8",
   "metadata": {},
   "outputs": [
    {
     "data": {
      "text/plain": [
       "24"
      ]
     },
     "execution_count": 33,
     "metadata": {},
     "output_type": "execute_result"
    }
   ],
   "source": [
    "len(prices)"
   ]
  },
  {
   "cell_type": "code",
   "execution_count": 35,
   "id": "b8b4c2c9-aacf-48f7-9b05-13ff58671844",
   "metadata": {},
   "outputs": [],
   "source": [
    "size=soup.find_all(\"li\",{\"class\":\"product-card__size-btn product--card-variant_swatch js-selected-variant\"})"
   ]
  },
  {
   "cell_type": "code",
   "execution_count": 37,
   "id": "ba101496-0962-4a54-bf97-8ee6a23e27cb",
   "metadata": {},
   "outputs": [
    {
     "data": {
      "text/plain": [
       "[]"
      ]
     },
     "execution_count": 37,
     "metadata": {},
     "output_type": "execute_result"
    }
   ],
   "source": [
    "size"
   ]
  },
  {
   "cell_type": "code",
   "execution_count": 39,
   "id": "3fb9208b-9459-423c-b584-14a98664955d",
   "metadata": {},
   "outputs": [],
   "source": [
    "d={\"t_shirts\":tshirt,\"dif_price\":prices}"
   ]
  },
  {
   "cell_type": "code",
   "execution_count": 41,
   "id": "092bbb57-5514-4276-bfb1-114923b49585",
   "metadata": {
    "scrolled": true
   },
   "outputs": [
    {
     "data": {
      "text/plain": [
       "{'t_shirts': ['Muscle Fit Brand Print T-Shirt',\n",
       "  'Varsity Colour Block T-Shirt',\n",
       "  'Crew Neck Brand Embroidered T-Shirt',\n",
       "  'Crew Neck Brand Print T-Shirt',\n",
       "  'Crew Neck Graphic Print T-Shirt',\n",
       "  'Pacho X Crest Logo Slim Fit T-Shirt',\n",
       "  'Brand Print Slim Fit T-Shirt',\n",
       "  'Crew Neck Brand Print T-Shirt',\n",
       "  'Bold Print Cotton T-Shirt',\n",
       "  'Brand Print Slim T-Shirt',\n",
       "  'Brand Print Crew Neck T-Shirt',\n",
       "  'Stretchy Tipped T-Shirt',\n",
       "  'Colour Block Slim Fit T-Shirt',\n",
       "  'Muscle Fit Brand Print T-Shirt',\n",
       "  'Muscle Fit Cotton T-Shirt',\n",
       "  'Crew Neck Brand Print T-Shirt',\n",
       "  'Muscle Fit Cotton T-Shirt',\n",
       "  'Crew Neck Graphic Print T-Shirt',\n",
       "  'Crew Neck Brand Print T-Shirt',\n",
       "  'Brand Embroidered Cotton T-Shirt',\n",
       "  'Brand Stripe Cotton T-Shirt',\n",
       "  'Varsity Colour Block T-Shirt',\n",
       "  'Brand Embroidered Cotton T-Shirt',\n",
       "  'Long Sleeve Hooded T-Shirt'],\n",
       " 'dif_price': ['1,699.0',\n",
       "  '700.0',\n",
       "  '884.0',\n",
       "  '884.0',\n",
       "  '884.0',\n",
       "  '2,999.0',\n",
       "  '520.0',\n",
       "  '884.0',\n",
       "  '871.0',\n",
       "  '1,040.0',\n",
       "  '871.0',\n",
       "  '871.0',\n",
       "  '884.0',\n",
       "  '480.0',\n",
       "  '816.0',\n",
       "  '871.0',\n",
       "  '804.0',\n",
       "  '871.0',\n",
       "  '871.0',\n",
       "  '884.0',\n",
       "  '520.0',\n",
       "  '680.0',\n",
       "  '884.0',\n",
       "  '880.0']}"
      ]
     },
     "execution_count": 41,
     "metadata": {},
     "output_type": "execute_result"
    }
   ],
   "source": [
    "d"
   ]
  },
  {
   "cell_type": "code",
   "execution_count": 43,
   "id": "1e3c1426-d89b-4ff2-857d-85d3157502d3",
   "metadata": {},
   "outputs": [],
   "source": [
    "import pandas as pd"
   ]
  },
  {
   "cell_type": "code",
   "execution_count": 45,
   "id": "65943686-f84b-4a1e-acc7-91422859098a",
   "metadata": {},
   "outputs": [],
   "source": [
    "df=pd.DataFrame(d)"
   ]
  },
  {
   "cell_type": "code",
   "execution_count": 47,
   "id": "d510ed31-5763-4495-bd22-fff36a6b47bf",
   "metadata": {},
   "outputs": [
    {
     "data": {
      "text/html": [
       "<div>\n",
       "<style scoped>\n",
       "    .dataframe tbody tr th:only-of-type {\n",
       "        vertical-align: middle;\n",
       "    }\n",
       "\n",
       "    .dataframe tbody tr th {\n",
       "        vertical-align: top;\n",
       "    }\n",
       "\n",
       "    .dataframe thead th {\n",
       "        text-align: right;\n",
       "    }\n",
       "</style>\n",
       "<table border=\"1\" class=\"dataframe\">\n",
       "  <thead>\n",
       "    <tr style=\"text-align: right;\">\n",
       "      <th></th>\n",
       "      <th>t_shirts</th>\n",
       "      <th>dif_price</th>\n",
       "    </tr>\n",
       "  </thead>\n",
       "  <tbody>\n",
       "    <tr>\n",
       "      <th>0</th>\n",
       "      <td>Muscle Fit Brand Print T-Shirt</td>\n",
       "      <td>1,699.0</td>\n",
       "    </tr>\n",
       "    <tr>\n",
       "      <th>1</th>\n",
       "      <td>Varsity Colour Block T-Shirt</td>\n",
       "      <td>700.0</td>\n",
       "    </tr>\n",
       "    <tr>\n",
       "      <th>2</th>\n",
       "      <td>Crew Neck Brand Embroidered T-Shirt</td>\n",
       "      <td>884.0</td>\n",
       "    </tr>\n",
       "    <tr>\n",
       "      <th>3</th>\n",
       "      <td>Crew Neck Brand Print T-Shirt</td>\n",
       "      <td>884.0</td>\n",
       "    </tr>\n",
       "    <tr>\n",
       "      <th>4</th>\n",
       "      <td>Crew Neck Graphic Print T-Shirt</td>\n",
       "      <td>884.0</td>\n",
       "    </tr>\n",
       "    <tr>\n",
       "      <th>5</th>\n",
       "      <td>Pacho X Crest Logo Slim Fit T-Shirt</td>\n",
       "      <td>2,999.0</td>\n",
       "    </tr>\n",
       "    <tr>\n",
       "      <th>6</th>\n",
       "      <td>Brand Print Slim Fit T-Shirt</td>\n",
       "      <td>520.0</td>\n",
       "    </tr>\n",
       "    <tr>\n",
       "      <th>7</th>\n",
       "      <td>Crew Neck Brand Print T-Shirt</td>\n",
       "      <td>884.0</td>\n",
       "    </tr>\n",
       "    <tr>\n",
       "      <th>8</th>\n",
       "      <td>Bold Print Cotton T-Shirt</td>\n",
       "      <td>871.0</td>\n",
       "    </tr>\n",
       "    <tr>\n",
       "      <th>9</th>\n",
       "      <td>Brand Print Slim T-Shirt</td>\n",
       "      <td>1,040.0</td>\n",
       "    </tr>\n",
       "    <tr>\n",
       "      <th>10</th>\n",
       "      <td>Brand Print Crew Neck T-Shirt</td>\n",
       "      <td>871.0</td>\n",
       "    </tr>\n",
       "    <tr>\n",
       "      <th>11</th>\n",
       "      <td>Stretchy Tipped T-Shirt</td>\n",
       "      <td>871.0</td>\n",
       "    </tr>\n",
       "    <tr>\n",
       "      <th>12</th>\n",
       "      <td>Colour Block Slim Fit T-Shirt</td>\n",
       "      <td>884.0</td>\n",
       "    </tr>\n",
       "    <tr>\n",
       "      <th>13</th>\n",
       "      <td>Muscle Fit Brand Print T-Shirt</td>\n",
       "      <td>480.0</td>\n",
       "    </tr>\n",
       "    <tr>\n",
       "      <th>14</th>\n",
       "      <td>Muscle Fit Cotton T-Shirt</td>\n",
       "      <td>816.0</td>\n",
       "    </tr>\n",
       "    <tr>\n",
       "      <th>15</th>\n",
       "      <td>Crew Neck Brand Print T-Shirt</td>\n",
       "      <td>871.0</td>\n",
       "    </tr>\n",
       "    <tr>\n",
       "      <th>16</th>\n",
       "      <td>Muscle Fit Cotton T-Shirt</td>\n",
       "      <td>804.0</td>\n",
       "    </tr>\n",
       "    <tr>\n",
       "      <th>17</th>\n",
       "      <td>Crew Neck Graphic Print T-Shirt</td>\n",
       "      <td>871.0</td>\n",
       "    </tr>\n",
       "    <tr>\n",
       "      <th>18</th>\n",
       "      <td>Crew Neck Brand Print T-Shirt</td>\n",
       "      <td>871.0</td>\n",
       "    </tr>\n",
       "    <tr>\n",
       "      <th>19</th>\n",
       "      <td>Brand Embroidered Cotton T-Shirt</td>\n",
       "      <td>884.0</td>\n",
       "    </tr>\n",
       "    <tr>\n",
       "      <th>20</th>\n",
       "      <td>Brand Stripe Cotton T-Shirt</td>\n",
       "      <td>520.0</td>\n",
       "    </tr>\n",
       "    <tr>\n",
       "      <th>21</th>\n",
       "      <td>Varsity Colour Block T-Shirt</td>\n",
       "      <td>680.0</td>\n",
       "    </tr>\n",
       "    <tr>\n",
       "      <th>22</th>\n",
       "      <td>Brand Embroidered Cotton T-Shirt</td>\n",
       "      <td>884.0</td>\n",
       "    </tr>\n",
       "    <tr>\n",
       "      <th>23</th>\n",
       "      <td>Long Sleeve Hooded T-Shirt</td>\n",
       "      <td>880.0</td>\n",
       "    </tr>\n",
       "  </tbody>\n",
       "</table>\n",
       "</div>"
      ],
      "text/plain": [
       "                               t_shirts dif_price\n",
       "0        Muscle Fit Brand Print T-Shirt   1,699.0\n",
       "1          Varsity Colour Block T-Shirt     700.0\n",
       "2   Crew Neck Brand Embroidered T-Shirt     884.0\n",
       "3         Crew Neck Brand Print T-Shirt     884.0\n",
       "4       Crew Neck Graphic Print T-Shirt     884.0\n",
       "5   Pacho X Crest Logo Slim Fit T-Shirt   2,999.0\n",
       "6          Brand Print Slim Fit T-Shirt     520.0\n",
       "7         Crew Neck Brand Print T-Shirt     884.0\n",
       "8             Bold Print Cotton T-Shirt     871.0\n",
       "9              Brand Print Slim T-Shirt   1,040.0\n",
       "10        Brand Print Crew Neck T-Shirt     871.0\n",
       "11              Stretchy Tipped T-Shirt     871.0\n",
       "12        Colour Block Slim Fit T-Shirt     884.0\n",
       "13       Muscle Fit Brand Print T-Shirt     480.0\n",
       "14            Muscle Fit Cotton T-Shirt     816.0\n",
       "15        Crew Neck Brand Print T-Shirt     871.0\n",
       "16            Muscle Fit Cotton T-Shirt     804.0\n",
       "17      Crew Neck Graphic Print T-Shirt     871.0\n",
       "18        Crew Neck Brand Print T-Shirt     871.0\n",
       "19     Brand Embroidered Cotton T-Shirt     884.0\n",
       "20          Brand Stripe Cotton T-Shirt     520.0\n",
       "21         Varsity Colour Block T-Shirt     680.0\n",
       "22     Brand Embroidered Cotton T-Shirt     884.0\n",
       "23           Long Sleeve Hooded T-Shirt     880.0"
      ]
     },
     "execution_count": 47,
     "metadata": {},
     "output_type": "execute_result"
    }
   ],
   "source": [
    "df"
   ]
  },
  {
   "cell_type": "code",
   "execution_count": 49,
   "id": "6cf67783-d1fc-4e28-b8d8-d4180e4d0818",
   "metadata": {},
   "outputs": [],
   "source": [
    "df.to_excel(\"dataonuspola.xlsx\")"
   ]
  },
  {
   "cell_type": "code",
   "execution_count": null,
   "id": "f286f166-0bf6-4f42-9aed-7759b7a61d46",
   "metadata": {},
   "outputs": [],
   "source": []
  }
 ],
 "metadata": {
  "kernelspec": {
   "display_name": "Python 3 (ipykernel)",
   "language": "python",
   "name": "python3"
  },
  "language_info": {
   "codemirror_mode": {
    "name": "ipython",
    "version": 3
   },
   "file_extension": ".py",
   "mimetype": "text/x-python",
   "name": "python",
   "nbconvert_exporter": "python",
   "pygments_lexer": "ipython3",
   "version": "3.12.4"
  }
 },
 "nbformat": 4,
 "nbformat_minor": 5
}
